{
  "nbformat": 4,
  "nbformat_minor": 0,
  "metadata": {
    "colab": {
      "name": "Jsc_270_A3.ipynb",
      "provenance": [],
      "authorship_tag": "ABX9TyMtEe/s2R/Qloy9mTSgocOi",
      "include_colab_link": true
    },
    "kernelspec": {
      "name": "python3",
      "display_name": "Python 3"
    }
  },
  "cells": [
    {
      "cell_type": "markdown",
      "metadata": {
        "id": "view-in-github",
        "colab_type": "text"
      },
      "source": [
        "<a href=\"https://colab.research.google.com/github/quyunniii/JSC270_A3_simulation/blob/main/Jsc_270_A3.ipynb\" target=\"_parent\"><img src=\"https://colab.research.google.com/assets/colab-badge.svg\" alt=\"Open In Colab\"/></a>"
      ]
    },
    {
      "cell_type": "code",
      "metadata": {
        "id": "QEn2iI6VwKIC"
      },
      "source": [
        "import numpy as np\n",
        "import matplotlib.pyplot as plt\n",
        "from sklearn.model_selection import train_test_split\n",
        "from sklearn.linear_model import LinearRegression\n",
        "from sklearn.linear_model import LogisticRegression\n",
        "from sklearn.metrics import plot_roc_curve\n",
        "from sklearn.tree import DecisionTreeClassifier\n",
        "from sklearn.metrics import precision_score"
      ],
      "execution_count": 191,
      "outputs": []
    },
    {
      "cell_type": "markdown",
      "metadata": {
        "id": "U7Qe58LHa-8J"
      },
      "source": [
        "1D"
      ]
    },
    {
      "cell_type": "code",
      "metadata": {
        "id": "yVfF8oI7fW6E"
      },
      "source": [
        "def beta_sampler(a, b, n):\n",
        "  my_sample = [np.random.beta(a, b) for i in range(n)]\n",
        "  return my_sample"
      ],
      "execution_count": null,
      "outputs": []
    },
    {
      "cell_type": "code",
      "metadata": {
        "colab": {
          "base_uri": "https://localhost:8080/",
          "height": 282
        },
        "id": "09FRlBJTffGo",
        "outputId": "71a22c12-5933-409c-e115-64e48573df73"
      },
      "source": [
        "##1000 draws from prior with beta(1,1)\n",
        "beta_sample1 = beta_sampler(1, 1, 1000)\n",
        "print(np.mean(beta_sample1))\n",
        "plt.hist(beta_sample1)\n",
        "plt.show()"
      ],
      "execution_count": null,
      "outputs": [
        {
          "output_type": "stream",
          "text": [
            "0.4791089292661404\n"
          ],
          "name": "stdout"
        },
        {
          "output_type": "display_data",
          "data": {
            "image/png": "[encoded data removed]",
            "text/plain": [
              "<Figure size 432x288 with 1 Axes>"
            ]
          },
          "metadata": {
            "tags": [],
            "needs_background": "light"
          }
        }
      ]
    },
    {
      "cell_type": "code",
      "metadata": {
        "colab": {
          "base_uri": "https://localhost:8080/",
          "height": 282
        },
        "id": "MkjyQTUgg_9H",
        "outputId": "514d35f2-33e2-487b-d96d-5fb9f5a98c5f"
      },
      "source": [
        "##1000 draws from prosterior with beta(5, 17)\n",
        "beta_sample2 = beta_sampler(5, 17, 1000)\n",
        "print(np.mean(beta_sample2))\n",
        "plt.hist(beta_sample2)\n",
        "plt.show()"
      ],
      "execution_count": null,
      "outputs": [
        {
          "output_type": "stream",
          "text": [
            "0.22901546799264424\n"
          ],
          "name": "stdout"
        },
        {
          "output_type": "display_data",
          "data": {
            "image/png": "[encoded data removed]",
            "text/plain": [
              "<Figure size 432x288 with 1 Axes>"
            ]
          },
          "metadata": {
            "tags": [],
            "needs_background": "light"
          }
        }
      ]
    },
    {
      "cell_type": "code",
      "metadata": {
        "colab": {
          "base_uri": "https://localhost:8080/"
        },
        "id": "oqazkGLVi9bk",
        "outputId": "2c7374f4-b6f9-4d60-d0cc-afee148f170e"
      },
      "source": [
        "#likelihood estimate\n",
        "print(4/20)"
      ],
      "execution_count": 229,
      "outputs": [
        {
          "output_type": "stream",
          "text": [
            "0.2\n"
          ],
          "name": "stdout"
        }
      ]
    },
    {
      "cell_type": "markdown",
      "metadata": {
        "id": "LgbyqhjcbOYb"
      },
      "source": [
        "1E"
      ]
    },
    {
      "cell_type": "code",
      "metadata": {
        "colab": {
          "base_uri": "https://localhost:8080/",
          "height": 282
        },
        "id": "8xUp11Mtwwlp",
        "outputId": "86755955-6e3b-4d88-95c4-8033dfb0134b"
      },
      "source": [
        "##1000 draws from prior with beta(1,3)\n",
        "beta_sample3 = beta_sampler(1, 3, 1000)\n",
        "print(np.mean(beta_sample3))\n",
        "plt.hist(beta_sample3)\n",
        "plt.show()"
      ],
      "execution_count": null,
      "outputs": [
        {
          "output_type": "stream",
          "text": [
            "0.25949929242894354\n"
          ],
          "name": "stdout"
        },
        {
          "output_type": "display_data",
          "data": {
            "image/png": "[encoded data removed]",
            "text/plain": [
              "<Figure size 432x288 with 1 Axes>"
            ]
          },
          "metadata": {
            "tags": [],
            "needs_background": "light"
          }
        }
      ]
    },
    {
      "cell_type": "code",
      "metadata": {
        "colab": {
          "base_uri": "https://localhost:8080/",
          "height": 282
        },
        "id": "3Jbm8YHZw1Rn",
        "outputId": "ee297b4a-3850-4121-df67-2d870d8a1041"
      },
      "source": [
        "##1000 draws from posterior with beta(5,19)\n",
        "beta_sample4 = beta_sampler(5, 19, 1000)\n",
        "print(np.mean(beta_sample4))\n",
        "plt.hist(beta_sample4)\n",
        "plt.show()"
      ],
      "execution_count": null,
      "outputs": [
        {
          "output_type": "stream",
          "text": [
            "0.20725597535813847\n"
          ],
          "name": "stdout"
        },
        {
          "output_type": "display_data",
          "data": {
            "image/png": "[encoded data removed]",
            "text/plain": [
              "<Figure size 432x288 with 1 Axes>"
            ]
          },
          "metadata": {
            "tags": [],
            "needs_background": "light"
          }
        }
      ]
    },
    {
      "cell_type": "markdown",
      "metadata": {
        "id": "CRC1iSZpbdbZ"
      },
      "source": [
        "1F"
      ]
    },
    {
      "cell_type": "code",
      "metadata": {
        "colab": {
          "base_uri": "https://localhost:8080/",
          "height": 282
        },
        "id": "tCOmwJKIxSN1",
        "outputId": "fd02f5c2-c960-43e3-b18a-a13c60754aca"
      },
      "source": [
        "##1000 draws from prior with beta(1,3)\n",
        "beta_sample5 = beta_sampler(1, 3, 1000)\n",
        "print(np.mean(beta_sample5))\n",
        "plt.hist(beta_sample5)\n",
        "plt.show()"
      ],
      "execution_count": null,
      "outputs": [
        {
          "output_type": "stream",
          "text": [
            "0.2536055503840402\n"
          ],
          "name": "stdout"
        },
        {
          "output_type": "display_data",
          "data": {
            "image/png": "[encoded data removed]",
            "text/plain": [
              "<Figure size 432x288 with 1 Axes>"
            ]
          },
          "metadata": {
            "tags": [],
            "needs_background": "light"
          }
        }
      ]
    },
    {
      "cell_type": "code",
      "metadata": {
        "colab": {
          "base_uri": "https://localhost:8080/",
          "height": 282
        },
        "id": "cHv4nD83xcrf",
        "outputId": "744a2417-1aed-49fd-afdb-2c293f0a78f5"
      },
      "source": [
        "##1000 draws from posterior with beta(13,11)\n",
        "beta_sample6 = beta_sampler(13, 11, 1000)\n",
        "print(np.mean(beta_sample6))\n",
        "plt.hist(beta_sample6)\n",
        "plt.show()"
      ],
      "execution_count": null,
      "outputs": [
        {
          "output_type": "stream",
          "text": [
            "0.5440522153980218\n"
          ],
          "name": "stdout"
        },
        {
          "output_type": "display_data",
          "data": {
            "image/png": "[encoded data removed]",
            "text/plain": [
              "<Figure size 432x288 with 1 Axes>"
            ]
          },
          "metadata": {
            "tags": [],
            "needs_background": "light"
          }
        }
      ]
    },
    {
      "cell_type": "markdown",
      "metadata": {
        "id": "aPWs0Zc0y1hq"
      },
      "source": [
        "2B"
      ]
    },
    {
      "cell_type": "code",
      "metadata": {
        "id": "TkbNDc0Ox5Ko"
      },
      "source": [
        "## define ecponential distribuution sampler with n as sample size\n",
        "def expo_sampler(b, n):\n",
        "  my_sample = [np.random.exponential(b) for i in range(n)]\n",
        "  return my_sample"
      ],
      "execution_count": null,
      "outputs": []
    },
    {
      "cell_type": "code",
      "metadata": {
        "colab": {
          "base_uri": "https://localhost:8080/",
          "height": 1000
        },
        "id": "uMUD80IPyYbF",
        "outputId": "0ad7d2d8-c67a-49ae-d8b0-00e3025b012d"
      },
      "source": [
        "expo_sample1 = expo_sampler(1/2, 10)\n",
        "plt.hist(expo_sample1)\n",
        "plt.show()\n",
        "\n",
        "expo_sample2 = expo_sampler(1/2, 20)\n",
        "plt.hist(expo_sample2)\n",
        "plt.show()\n",
        "\n",
        "expo_sample3 = expo_sampler(1/2, 50)\n",
        "plt.hist(expo_sample3)\n",
        "plt.show()\n",
        "\n",
        "expo_sample4 = expo_sampler(1/2, 100)\n",
        "plt.hist(expo_sample4)\n",
        "plt.show()\n",
        "\n",
        "expo_sample5 = expo_sampler(1/2, 500)\n",
        "plt.hist(expo_sample5)\n",
        "plt.show()\n",
        "\n",
        "expo_sample6 = expo_sampler(1/2, 2000)\n",
        "plt.hist(expo_sample6)\n",
        "plt.show()"
      ],
      "execution_count": null,
      "outputs": [
        {
          "output_type": "display_data",
          "data": {
            "image/png": "[encoded data removed]",
            "text/plain": [
              "<Figure size 432x288 with 1 Axes>"
            ]
          },
          "metadata": {
            "tags": [],
            "needs_background": "light"
          }
        },
        {
          "output_type": "display_data",
          "data": {
            "image/png": "[encoded data removed]",
            "text/plain": [
              "<Figure size 432x288 with 1 Axes>"
            ]
          },
          "metadata": {
            "tags": [],
            "needs_background": "light"
          }
        },
        {
          "output_type": "display_data",
          "data": {
            "image/png": "[encoded data removed]",
            "text/plain": [
              "<Figure size 432x288 with 1 Axes>"
            ]
          },
          "metadata": {
            "tags": [],
            "needs_background": "light"
          }
        },
        {
          "output_type": "display_data",
          "data": {
            "image/png": "[encoded data removed]",
            "text/plain": [
              "<Figure size 432x288 with 1 Axes>"
            ]
          },
          "metadata": {
            "tags": [],
            "needs_background": "light"
          }
        },
        {
          "output_type": "display_data",
          "data": {
            "image/png": "[encoded data removed]",
            "text/plain": [
              "<Figure size 432x288 with 1 Axes>"
            ]
          },
          "metadata": {
            "tags": [],
            "needs_background": "light"
          }
        },
        {
          "output_type": "display_data",
          "data": {
            "image/png": "[encoded data removed]",
            "text/plain": [
              "<Figure size 432x288 with 1 Axes>"
            ]
          },
          "metadata": {
            "tags": [],
            "needs_background": "light"
          }
        }
      ]
    },
    {
      "cell_type": "markdown",
      "metadata": {
        "id": "Lj6LatZcy6TF"
      },
      "source": [
        "2C"
      ]
    },
    {
      "cell_type": "code",
      "metadata": {
        "colab": {
          "base_uri": "https://localhost:8080/",
          "height": 265
        },
        "id": "IriWv8TrytRf",
        "outputId": "432cda3a-487b-4d2b-d597-59a93a8fb530"
      },
      "source": [
        "## plot with sample size as x and mean as y\n",
        "plt.plot([10, 20, 50, 100, 500, 2000], \n",
        "         [np.mean(expo_sample1), \n",
        "          np.mean(expo_sample2),\n",
        "          np.mean(expo_sample3),\n",
        "          np.mean(expo_sample4),\n",
        "          np.mean(expo_sample5),\n",
        "          np.mean(expo_sample6)])\n",
        "plt.xlabel = \"smaple size\"\n",
        "plt.ylabel = \"smaple mean\"\n",
        "plt.axhline(1/2, color='r', linestyle='-')\n",
        "plt.show()"
      ],
      "execution_count": null,
      "outputs": [
        {
          "output_type": "display_data",
          "data": {
            "image/png": "[encoded data removed]",
            "text/plain": [
              "<Figure size 432x288 with 1 Axes>"
            ]
          },
          "metadata": {
            "tags": [],
            "needs_background": "light"
          }
        }
      ]
    },
    {
      "cell_type": "markdown",
      "metadata": {
        "id": "lbZUFoZH0sLp"
      },
      "source": [
        "3A"
      ]
    },
    {
      "cell_type": "code",
      "metadata": {
        "id": "E-ESXkh0tHIG"
      },
      "source": [
        "## sigmoid function:\n",
        "def sigmoid(t):\n",
        "  return np.exp(t) / (1 + np.exp(t))\n",
        "\n",
        "\n",
        "## defining distribution for Q3\n",
        "def my_dist(x1, x2, d, e):\n",
        "  x = sigmoid(5 + \n",
        "              0.6 * x1 + \n",
        "              0.8 * x2 +\n",
        "              0.4 * d +\n",
        "              e)\n",
        "  return x\n",
        "\n",
        "\n",
        "## generate x1, x2, d, and epsilon\n",
        "def generate_X(n):\n",
        "  X = []\n",
        "  x2 = []\n",
        "  d = []\n",
        "  e = []\n",
        "  for i in range(n):\n",
        "    x = [np.random.uniform(-100, 100),\n",
        "         np.random.uniform(-150, 150),\n",
        "         np.random.choice([0, 1, 2, 3, 4]),\n",
        "         np.random.normal(0, 4)]\n",
        "    X.append(x)\n",
        "  return X\n",
        "\n",
        "\n",
        "\n",
        "## defining sampler that generate n samples\n",
        "def response(X):\n",
        "  response = []\n",
        "  for i in range(len(X)):\n",
        "    response.append(my_dist(X[i][0],\n",
        "                            X[i][1],\n",
        "                            X[i][2],\n",
        "                            X[i][3]))\n",
        "  return response\n",
        "\n",
        "\n",
        "\n",
        "def generate_label(c, x, reg):\n",
        "  ## generate lable based on c\n",
        "  prob = []\n",
        "  for i in range(len(x)):\n",
        "    prob.append(reg.predict([x[i]]))\n",
        "  label = []\n",
        "  for i in range(len(prob)):\n",
        "    if prob[i] > c:\n",
        "      label.append(1)\n",
        "    else:\n",
        "      label.append(0)\n",
        "  return label\n",
        "\n",
        "\n",
        "\n"
      ],
      "execution_count": 173,
      "outputs": []
    },
    {
      "cell_type": "code",
      "metadata": {
        "id": "mATF7qPR3nlv"
      },
      "source": [
        "np.random.seed(270)\n",
        "## generate 1000 presictors\n",
        "x = generate_X(1000)\n",
        "\n",
        "## generate true response\n",
        "p = response(x)\n",
        "\n",
        "## fit regression\n",
        "reg = LinearRegression()\n",
        "reg.fit(x, p)\n",
        "\n",
        "## generate label\n",
        "y = generate_label(0.5, x, reg)\n"
      ],
      "execution_count": 226,
      "outputs": []
    },
    {
      "cell_type": "markdown",
      "metadata": {
        "id": "G5JEakp-0uQI"
      },
      "source": [
        "3B"
      ]
    },
    {
      "cell_type": "code",
      "metadata": {
        "colab": {
          "base_uri": "https://localhost:8080/"
        },
        "id": "57CIfQaXAm4Q",
        "outputId": "ecb37dde-0416-4459-f243-779255eef93f"
      },
      "source": [
        "## split data into 80/20 train/test\n",
        "X_train, X_test, y_train, y_test = train_test_split(x, y, test_size=0.2, shuffle=True, random_state=10)\n",
        "\n",
        "# Instantiate the logistic model object\n",
        "logisticreg = LogisticRegression(penalty='none', random_state=10)\n",
        "\n",
        "# Fit the model to dataset\n",
        "logisticreg.fit(X_train, y_train)"
      ],
      "execution_count": 227,
      "outputs": [
        {
          "output_type": "execute_result",
          "data": {
            "text/plain": [
              "LogisticRegression(C=1.0, class_weight=None, dual=False, fit_intercept=True,\n",
              "                   intercept_scaling=1, l1_ratio=None, max_iter=100,\n",
              "                   multi_class='auto', n_jobs=None, penalty='none',\n",
              "                   random_state=10, solver='lbfgs', tol=0.0001, verbose=0,\n",
              "                   warm_start=False)"
            ]
          },
          "metadata": {
            "tags": []
          },
          "execution_count": 227
        }
      ]
    },
    {
      "cell_type": "code",
      "metadata": {
        "colab": {
          "base_uri": "https://localhost:8080/",
          "height": 325
        },
        "id": "La4lqVpUccNJ",
        "outputId": "884f1917-1bab-47d2-ef21-97f9a17bb091"
      },
      "source": [
        "## roc curve for x_test,y_test\n",
        "plt = plot_roc_curve(logisticreg, X_test, y_test)\n",
        "plt.figure_.suptitle(\"ROC curve\")"
      ],
      "execution_count": 228,
      "outputs": [
        {
          "output_type": "execute_result",
          "data": {
            "text/plain": [
              "Text(0.5, 0.98, 'ROC curve')"
            ]
          },
          "metadata": {
            "tags": []
          },
          "execution_count": 228
        },
        {
          "output_type": "display_data",
          "data": {
            "image/png": "[encoded data removed]",
            "text/plain": [
              "<Figure size 432x288 with 1 Axes>"
            ]
          },
          "metadata": {
            "tags": [],
            "needs_background": "light"
          }
        }
      ]
    },
    {
      "cell_type": "markdown",
      "metadata": {
        "id": "T-5Foj2P1pNU"
      },
      "source": [
        "3C"
      ]
    },
    {
      "cell_type": "code",
      "metadata": {
        "id": "rj5PEtkYlvJn"
      },
      "source": [
        "## defining resamle with size n, return precision score on the remaining OOB obsevations\n",
        "def resample_fit(n):\n",
        "  resample_x = []\n",
        "  resample_y = []\n",
        "  indices = []\n",
        "  for i in range(n):\n",
        "    index = np.random.randint(0, 1000)\n",
        "    if index not in indices:\n",
        "      indices.append(index)\n",
        "    resample_x.append(x[index])\n",
        "    resample_y.append(y[index])\n",
        "  tree = DecisionTreeClassifier()\n",
        "  tree.fit(resample_x, resample_y)\n",
        "\n",
        "  ## find OOB\n",
        "  remain_x = []\n",
        "  remain_y = []\n",
        "  for i in range(1000):\n",
        "    if i not in indices:\n",
        "      remain_x.append(x[i])\n",
        "      remain_y.append(y[i])\n",
        "\n",
        "  ## predict value\n",
        "  remain_y_pred = tree.predict(remain_x)\n",
        "\n",
        "  ## calculate precision score\n",
        "  score = precision_score(remain_y, remain_y_pred)\n",
        "  return score\n",
        "\n",
        "\n"
      ],
      "execution_count": 192,
      "outputs": []
    },
    {
      "cell_type": "code",
      "metadata": {
        "id": "xCQnA74MOXdS"
      },
      "source": [
        "def bootstrap(n, B):\n",
        "  result = []\n",
        "  for i in range(B):\n",
        "    result.append(resample_fit(n))\n",
        "  return result\n",
        "\n",
        "result = bootstrap(1000, 5000)"
      ],
      "execution_count": 204,
      "outputs": []
    },
    {
      "cell_type": "markdown",
      "metadata": {
        "id": "Vkt3feiv1vgF"
      },
      "source": [
        "3D"
      ]
    },
    {
      "cell_type": "code",
      "metadata": {
        "colab": {
          "base_uri": "https://localhost:8080/",
          "height": 308
        },
        "id": "lIjVT7f2TF1k",
        "outputId": "ea9b3ecc-dbc8-4629-89a0-4db92da41b37"
      },
      "source": [
        "## histogram for 5000 metrics\n",
        "plt.hist(result)\n",
        "plt.xlabel('precision score')\n",
        "plt.suptitle('Distribution of  bootstrapped out-of-sample performance metrics')\n",
        "plt.show()"
      ],
      "execution_count": 210,
      "outputs": [
        {
          "output_type": "display_data",
          "data": {
            "image/png": "[encoded data removed]",
            "text/plain": [
              "<Figure size 432x288 with 1 Axes>"
            ]
          },
          "metadata": {
            "tags": [],
            "needs_background": "light"
          }
        }
      ]
    },
    {
      "cell_type": "markdown",
      "metadata": {
        "id": "lV87bUDd19lz"
      },
      "source": [
        "3E"
      ]
    },
    {
      "cell_type": "code",
      "metadata": {
        "colab": {
          "base_uri": "https://localhost:8080/"
        },
        "id": "ZbSQjyRdURiD",
        "outputId": "bb21e4d4-86dd-4a31-84c7-78f04c7bec30"
      },
      "source": [
        "## compute precision score for logistic regression\n",
        "y_logistic_predict = logisticreg.predict(X_test)\n",
        "logistic_p_score = precision_score(y_test, y_logistic_predict)\n",
        "\n",
        "## compute mean for bootstrap\n",
        "print(\"decision tree : \")\n",
        "print(np.mean(result))\n",
        "\n",
        "## compute mean for logistic\n",
        "print(\"logistics regression : \")\n",
        "print(np.mean(logistic_p_score))"
      ],
      "execution_count": 232,
      "outputs": [
        {
          "output_type": "stream",
          "text": [
            "decision tree : \n",
            "0.9716240675584706\n",
            "logistics regression : \n",
            "0.9900990099009901\n"
          ],
          "name": "stdout"
        }
      ]
    }
  ]
}